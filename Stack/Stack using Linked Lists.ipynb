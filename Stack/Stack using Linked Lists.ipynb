{
 "cells": [
  {
   "cell_type": "markdown",
   "id": "876b76df",
   "metadata": {},
   "source": [
    "# Stack using Linked Lists"
   ]
  },
  {
   "cell_type": "code",
   "execution_count": 1,
   "id": "f1651e81",
   "metadata": {},
   "outputs": [],
   "source": [
    "# Linked List node. It will store data for stack and also point to the next element in stack.\n",
    "class Node:\n",
    "    def __init__(self, data):\n",
    "        self.data = data\n",
    "        self.nextNode = None"
   ]
  },
  {
   "cell_type": "code",
   "execution_count": 2,
   "id": "3520ad4f",
   "metadata": {},
   "outputs": [],
   "source": [
    "# In Stack, the linked list formed will be 1 <-2 <- 3 <- 4 <- .... instead of 1 -> 2 -> 3 -> 4 -> .....\n",
    "class Stack:\n",
    "    def __init__(self):\n",
    "        self.head = None\n",
    "        \n",
    "    def push(self, data):\n",
    "        if self.head is None:\n",
    "            self.head = Node(data)\n",
    "            return\n",
    "        # Create a Node with Data\n",
    "        newNode = Node(data)\n",
    "        # This new node will be pointing to old head\n",
    "        newNode.nextNode = self.head\n",
    "        # Make this new node as head\n",
    "        self.head = newNode\n",
    "        \n",
    "    def pop(self):\n",
    "        if self.head is None:\n",
    "            return\n",
    "        temp = self.head\n",
    "        self.head = self.head.nextNode\n",
    "        temp.next = None\n",
    "        return temp.data\n",
    "    \n",
    "    def peek(self):\n",
    "        if self.head is not None:\n",
    "            return self.head.data\n",
    "        return self.head\n",
    "    \n",
    "    def empty(self):\n",
    "            return self.head == None\n",
    "    \n",
    "    def size(self):        \n",
    "        length = 0\n",
    "        if self.head is None:\n",
    "            return length\n",
    "        temp = self.head\n",
    "        while temp:\n",
    "            length +=1\n",
    "            temp = temp.nextNode\n",
    "        return length\n",
    "    \n",
    "    def show(self):\n",
    "        #Reference of head in a temporary variable\n",
    "        temp = self.head\n",
    "        while temp:\n",
    "            print(temp.data, end=\" \")\n",
    "            temp = temp.nextNode\n",
    "        \n",
    "    # Fancy Overriding way of showing the whole Stack.\n",
    "    # __str__ method gets called when print is used.\n",
    "    #So we can override to print our instance using print().\n",
    "    def __str__(self):\n",
    "        temp = self.head\n",
    "        out = \"\"\n",
    "        while temp:\n",
    "            out += str(temp.data)+\" \"\n",
    "            temp = temp.nextNode\n",
    "        return out.strip(\" \")"
   ]
  },
  {
   "cell_type": "code",
   "execution_count": 3,
   "id": "95de173d",
   "metadata": {},
   "outputs": [],
   "source": [
    "s = Stack()"
   ]
  },
  {
   "cell_type": "code",
   "execution_count": 4,
   "id": "74825c56",
   "metadata": {},
   "outputs": [
    {
     "data": {
      "text/plain": [
       "True"
      ]
     },
     "execution_count": 4,
     "metadata": {},
     "output_type": "execute_result"
    }
   ],
   "source": [
    "s.empty()"
   ]
  },
  {
   "cell_type": "code",
   "execution_count": 5,
   "id": "c4dbf344",
   "metadata": {},
   "outputs": [],
   "source": [
    "s.push(5)\n",
    "s.push(7)\n",
    "s.push(35)\n",
    "s.push(79)\n",
    "s.push(102)"
   ]
  },
  {
   "cell_type": "code",
   "execution_count": 6,
   "id": "da06a489",
   "metadata": {},
   "outputs": [
    {
     "name": "stdout",
     "output_type": "stream",
     "text": [
      "102 79 35 7 5\n"
     ]
    }
   ],
   "source": [
    "print(s)"
   ]
  },
  {
   "cell_type": "code",
   "execution_count": 7,
   "id": "f44227f2",
   "metadata": {},
   "outputs": [
    {
     "data": {
      "text/plain": [
       "102"
      ]
     },
     "execution_count": 7,
     "metadata": {},
     "output_type": "execute_result"
    }
   ],
   "source": [
    "s.peek()"
   ]
  },
  {
   "cell_type": "code",
   "execution_count": 8,
   "id": "cf005fc7",
   "metadata": {},
   "outputs": [
    {
     "data": {
      "text/plain": [
       "False"
      ]
     },
     "execution_count": 8,
     "metadata": {},
     "output_type": "execute_result"
    }
   ],
   "source": [
    "s.empty()"
   ]
  },
  {
   "cell_type": "code",
   "execution_count": 9,
   "id": "6e99129e",
   "metadata": {},
   "outputs": [
    {
     "data": {
      "text/plain": [
       "5"
      ]
     },
     "execution_count": 9,
     "metadata": {},
     "output_type": "execute_result"
    }
   ],
   "source": [
    "s.size()"
   ]
  },
  {
   "cell_type": "code",
   "execution_count": 10,
   "id": "b48978b9",
   "metadata": {},
   "outputs": [
    {
     "data": {
      "text/plain": [
       "102"
      ]
     },
     "execution_count": 10,
     "metadata": {},
     "output_type": "execute_result"
    }
   ],
   "source": [
    "s.pop()"
   ]
  },
  {
   "cell_type": "code",
   "execution_count": 11,
   "id": "c0f850b0",
   "metadata": {},
   "outputs": [
    {
     "name": "stdout",
     "output_type": "stream",
     "text": [
      "79 35 7 5\n"
     ]
    }
   ],
   "source": [
    "print(s)"
   ]
  },
  {
   "cell_type": "code",
   "execution_count": 12,
   "id": "0c2119d6",
   "metadata": {},
   "outputs": [
    {
     "name": "stdout",
     "output_type": "stream",
     "text": [
      "79 35 7 5 "
     ]
    }
   ],
   "source": [
    "s.show()"
   ]
  }
 ],
 "metadata": {
  "kernelspec": {
   "display_name": "Python 3 (ipykernel)",
   "language": "python",
   "name": "python3"
  },
  "language_info": {
   "codemirror_mode": {
    "name": "ipython",
    "version": 3
   },
   "file_extension": ".py",
   "mimetype": "text/x-python",
   "name": "python",
   "nbconvert_exporter": "python",
   "pygments_lexer": "ipython3",
   "version": "3.8.0"
  }
 },
 "nbformat": 4,
 "nbformat_minor": 5
}

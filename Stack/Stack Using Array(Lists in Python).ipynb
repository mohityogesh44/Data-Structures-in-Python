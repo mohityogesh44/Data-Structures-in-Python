{
 "cells": [
  {
   "cell_type": "markdown",
   "id": "e16aed94",
   "metadata": {},
   "source": [
    "# Stack\n",
    "\n",
    "Stack is a linear data structure which follows a particular order in which the operations are performed. The order may be `LIFO(Last In First Out)` or `FILO(First In Last Out)`.\n",
    "\n",
    "### Operations associated with Stack:\n",
    "     1. push() : Insert an element on top.\n",
    "     2. pop() : Remove the element on top.\n",
    "     3. peek(): Return the topmost element from Stack.\n",
    "     4. empty(): Check if the Stack is empty.\n",
    "     5. size(): Return the size of Stack. \n",
    "    *6. show(): Adding a show method to print all the elements in stack."
   ]
  },
  {
   "cell_type": "code",
   "execution_count": 1,
   "id": "e8ea51b8",
   "metadata": {},
   "outputs": [],
   "source": [
    "class Stack:\n",
    "    \n",
    "    def __init__(self):\n",
    "        # Initialize an Empty List\n",
    "        self.items = []\n",
    "        \n",
    "    def push(self, data):\n",
    "        self.items.append(data)\n",
    "    \n",
    "    def pop(self):\n",
    "        return self.items.pop()\n",
    "    \n",
    "    def peek(self):\n",
    "        return self.items[-1]\n",
    "    \n",
    "    def empty(self):\n",
    "        return len(self.items)==0\n",
    "    \n",
    "    def size(self):\n",
    "        return len(self.items)\n",
    "    \n",
    "    def show(self):\n",
    "        print(self.items)\n",
    "        \n",
    "    # Fancy Overriding way of showing the whole Stack.\n",
    "    # __str__ method gets called when print is used.\n",
    "    #So we can override to print our instance using print().\n",
    "    def __str__(self):\n",
    "        return str(self.items)\n",
    "    "
   ]
  },
  {
   "cell_type": "code",
   "execution_count": 2,
   "id": "a44e4f8c",
   "metadata": {},
   "outputs": [],
   "source": [
    "stack = Stack()"
   ]
  },
  {
   "cell_type": "code",
   "execution_count": 3,
   "id": "821986b4",
   "metadata": {},
   "outputs": [
    {
     "data": {
      "text/plain": [
       "0"
      ]
     },
     "execution_count": 3,
     "metadata": {},
     "output_type": "execute_result"
    }
   ],
   "source": [
    "stack.size()"
   ]
  },
  {
   "cell_type": "code",
   "execution_count": 4,
   "id": "f3f75160",
   "metadata": {},
   "outputs": [
    {
     "data": {
      "text/plain": [
       "True"
      ]
     },
     "execution_count": 4,
     "metadata": {},
     "output_type": "execute_result"
    }
   ],
   "source": [
    "stack.empty()"
   ]
  },
  {
   "cell_type": "code",
   "execution_count": 5,
   "id": "abb9c6be",
   "metadata": {},
   "outputs": [],
   "source": [
    "stack.push(10)\n",
    "stack.push(20)\n",
    "stack.push(5)\n",
    "stack.push(2)\n",
    "stack.push(7)\n",
    "stack.push(9)"
   ]
  },
  {
   "cell_type": "code",
   "execution_count": 6,
   "id": "48c02837",
   "metadata": {},
   "outputs": [
    {
     "data": {
      "text/plain": [
       "6"
      ]
     },
     "execution_count": 6,
     "metadata": {},
     "output_type": "execute_result"
    }
   ],
   "source": [
    "stack.size()"
   ]
  },
  {
   "cell_type": "code",
   "execution_count": 7,
   "id": "b80ea9fb",
   "metadata": {},
   "outputs": [
    {
     "data": {
      "text/plain": [
       "False"
      ]
     },
     "execution_count": 7,
     "metadata": {},
     "output_type": "execute_result"
    }
   ],
   "source": [
    "stack.empty()"
   ]
  },
  {
   "cell_type": "code",
   "execution_count": 8,
   "id": "9e0cc1f5",
   "metadata": {
    "scrolled": true
   },
   "outputs": [
    {
     "name": "stdout",
     "output_type": "stream",
     "text": [
      "[10, 20, 5, 2, 7, 9]\n"
     ]
    }
   ],
   "source": [
    "stack.show()"
   ]
  },
  {
   "cell_type": "code",
   "execution_count": 9,
   "id": "4cb7bf72",
   "metadata": {},
   "outputs": [
    {
     "name": "stdout",
     "output_type": "stream",
     "text": [
      "[10, 20, 5, 2, 7, 9]\n"
     ]
    }
   ],
   "source": [
    "print(stack)"
   ]
  }
 ],
 "metadata": {
  "kernelspec": {
   "display_name": "Python 3 (ipykernel)",
   "language": "python",
   "name": "python3"
  },
  "language_info": {
   "codemirror_mode": {
    "name": "ipython",
    "version": 3
   },
   "file_extension": ".py",
   "mimetype": "text/x-python",
   "name": "python",
   "nbconvert_exporter": "python",
   "pygments_lexer": "ipython3",
   "version": "3.8.0"
  }
 },
 "nbformat": 4,
 "nbformat_minor": 5
}
